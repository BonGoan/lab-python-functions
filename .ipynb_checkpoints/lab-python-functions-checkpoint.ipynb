{
 "cells": [
  {
   "cell_type": "markdown",
   "id": "25d7736c-ba17-4aff-b6bb-66eba20fbf4e",
   "metadata": {},
   "source": [
    "# Lab | Functions"
   ]
  },
  {
   "cell_type": "markdown",
   "id": "0c581062-8967-4d93-b06e-62833222f930",
   "metadata": {
    "tags": []
   },
   "source": [
    "## Exercise: Managing Customer Orders with Functions\n",
    "\n",
    "In the previous exercise, you improved the code for managing customer orders by using loops and flow control. Now, let's take it a step further and refactor the code by introducing functions.\n",
    "\n",
    "Follow the steps below to complete the exercise:\n",
    "\n",
    "1. Define a function named `initialize_inventory` that takes `products` as a parameter. Inside the function, implement the code for initializing the inventory dictionary using a loop and user input.\n",
    "\n",
    "2. Define a function named `get_customer_orders` that takes no parameters. Inside the function, implement the code for prompting the user to enter the product names using a loop. The function should return the `customer_orders` set.\n",
    "\n",
    "3. Define a function named `update_inventory` that takes `customer_orders` and `inventory` as parameters. Inside the function, implement the code for updating the inventory dictionary based on the customer orders.\n",
    "\n",
    "4. Define a function named `calculate_order_statistics` that takes `customer_orders` and `products` as parameters. Inside the function, implement the code for calculating the order statistics (total products ordered, and percentage of unique products ordered). The function should return these values.\n",
    "\n",
    "5. Define a function named `print_order_statistics` that takes `order_statistics` as a parameter. Inside the function, implement the code for printing the order statistics.\n",
    "\n",
    "6. Define a function named `print_updated_inventory` that takes `inventory` as a parameter. Inside the function, implement the code for printing the updated inventory.\n",
    "\n",
    "7. Call the functions in the appropriate sequence to execute the program and manage customer orders.\n",
    "\n",
    "Hints for functions:\n",
    "\n",
    "- Consider the input parameters required for each function and their return values.\n",
    "- Utilize function parameters and return values to transfer data between functions.\n",
    "- Test your functions individually to ensure they work correctly.\n",
    "\n",
    "\n"
   ]
  },
  {
   "cell_type": "code",
   "execution_count": 13,
   "id": "5fdb13be-a29b-4041-852b-3b66c0df43d8",
   "metadata": {},
   "outputs": [
    {
     "name": "stdin",
     "output_type": "stream",
     "text": [
      "Enter the quantity for t-shirt:  25\n",
      "Enter the quantity for mug:  30\n",
      "Enter the quantity for hat:  40\n",
      "Enter the quantity for book:  70\n",
      "Enter the quantity for keychain:  20\n"
     ]
    },
    {
     "name": "stdout",
     "output_type": "stream",
     "text": [
      "Initialized Inventory: {'t-shirt': 25, 'mug': 30, 'hat': 40, 'book': 70, 'keychain': 20}\n"
     ]
    }
   ],
   "source": [
    "#1\n",
    "def initialize_inventory (products):\n",
    "    inventory = {}\n",
    "    for product in products:\n",
    "        quantity = int(input(f\"Enter the quantity for {product}: \"))\n",
    "        inventory [product] = quantity\n",
    "    return inventory\n",
    "    \n",
    "products = [\"t-shirt\", \"mug\", \"hat\", \"book\", \"keychain\"]\n",
    "inventory = initialize_inventory(products)\n",
    "print(\"Initialized Inventory:\", inventory)"
   ]
  },
  {
   "cell_type": "code",
   "execution_count": 37,
   "id": "d2268977-2ab4-4d0c-85f2-75dde15a2d85",
   "metadata": {},
   "outputs": [
    {
     "name": "stdin",
     "output_type": "stream",
     "text": [
      "Enter the name of the product that you want to order:  mug\n",
      "Do you want to order another product) (yes/no):  yes\n",
      "Enter the name of the product that you want to order:  hat\n",
      "Do you want to order another product) (yes/no):  yes\n",
      "Enter the name of the product that you want to order:  book\n",
      "Do you want to order another product) (yes/no):  yes\n",
      "Enter the name of the product that you want to order:  keychain\n",
      "Do you want to order another product) (yes/no):  no\n"
     ]
    },
    {
     "name": "stdout",
     "output_type": "stream",
     "text": [
      "Customer Orders: {'book', 'keychain', 'hat', 'mug'}\n"
     ]
    }
   ],
   "source": [
    "#2\n",
    "def get_customer_orders():\n",
    "    customer_orders = set()\n",
    "    \n",
    "    while True:\n",
    "        product_name = input (\"Enter the name of the product that you want to order: \")\n",
    "        customer_orders.add(product_name)\n",
    "        another = input (\"Do you want to order another product) (yes/no): \")\n",
    "        if another != 'yes':\n",
    "            break\n",
    "    \n",
    "    return customer_orders\n",
    "        \n",
    "customer_orders = get_customer_orders ()\n",
    "print (\"Customer Orders:\", customer_orders)\n"
   ]
  },
  {
   "cell_type": "code",
   "execution_count": 53,
   "id": "be99a946-fe96-494a-9ae7-f11381dbf35d",
   "metadata": {},
   "outputs": [
    {
     "name": "stdout",
     "output_type": "stream",
     "text": [
      "New Inventory: {'t-shirt': 25, 'mug': 29, 'hat': 39, 'book': 69, 'keychain': 19}\n"
     ]
    }
   ],
   "source": [
    "#3\n",
    "def update_inventory (customer_orders, inventory):\n",
    "    for product in customer_orders:\n",
    "        if product in inventory and inventory[product] > 0:\n",
    "            inventory[product] -= 1  \n",
    "        else:\n",
    "            print(f\"'{product}' is out of stock or not in the inventory!\")\n",
    "    return inventory\n",
    "\n",
    "\n",
    "inventory = {'t-shirt': 25, 'mug': 30, 'hat': 40, 'book': 70, 'keychain': 20}\n",
    "customer_orders: {'book', 'keychain', 'hat', 'mug'}\n",
    "\n",
    "new_inventory = update_inventory(customer_orders, inventory)\n",
    "print (\"New Inventory:\" , new_inventory)\n"
   ]
  },
  {
   "cell_type": "code",
   "execution_count": 66,
   "id": "32c84211-90d9-4265-9e92-c9e01298b252",
   "metadata": {},
   "outputs": [
    {
     "name": "stdout",
     "output_type": "stream",
     "text": [
      "Order Statistics:{order_statistics%} 80.0\n"
     ]
    }
   ],
   "source": [
    "#4\n",
    "def calculate_order_statistics (customer_orders, products):\n",
    "    total_products_ordered = len(customer_orders)\n",
    "    total_products = len(products)\n",
    "    order_statistics = (total_products_ordered / total_products)* 100\n",
    "    return order_statistics\n",
    "\n",
    "products = [\"t-shirt\", \"mug\", \"hat\", \"book\", \"keychain\"]\n",
    "customer_orders: {'book', 'keychain', 'hat', 'mug'}\n",
    "\n",
    "order_statistics = calculate_order_statistics (customer_orders,products)\n",
    "print (\"Order Statistics:{order_statistics%}\" , order_statistics)"
   ]
  },
  {
   "cell_type": "code",
   "execution_count": 72,
   "id": "0cd52dc6-5527-4367-8236-634bc3889852",
   "metadata": {},
   "outputs": [
    {
     "name": "stdout",
     "output_type": "stream",
     "text": [
      "Total Products Ordered: 4\n",
      "Percentage of Unique Products Ordered: 80%\n"
     ]
    }
   ],
   "source": [
    "#5\n",
    "def print_order_statistics (order_statistics):\n",
    "    total_products_ordered = len(customer_orders)\n",
    "    total_products = len(products)\n",
    "    percentage_ordered = (total_products_ordered / total_products)* 100\n",
    "    order_statistics = total_products_ordered, percentage_ordered \n",
    "    print(f\"Total Products Ordered: {total_products_ordered}\")\n",
    "    print(f\"Percentage of Unique Products Ordered: {percentage_ordered:.0f}%\")\n",
    "\n",
    "order_statistics = (4, 80)\n",
    "print_order_statistics(order_statistics)\n",
    "\n",
    "\n",
    "    "
   ]
  },
  {
   "cell_type": "code",
   "execution_count": 73,
   "id": "6d008db1-83ca-40d6-981b-22e82108ed71",
   "metadata": {},
   "outputs": [
    {
     "name": "stdout",
     "output_type": "stream",
     "text": [
      "Updated Inventory:\n",
      "t-shirt: 25\n",
      "mug: 29\n",
      "hat: 39\n",
      "book: 69\n",
      "keychain: 19\n"
     ]
    }
   ],
   "source": [
    "#6\n",
    "def print_updated_inventory(inventory):\n",
    "    print(\"Updated Inventory:\")\n",
    "    for product, quantity in inventory.items():\n",
    "        print(f\"{product}: {quantity}\")\n",
    "\n",
    "Inventory: {'t-shirt': 25, 'mug': 30, 'hat': 40, 'book': 70, 'keychain': 20}\n",
    "print_updated_inventory(inventory)\n"
   ]
  },
  {
   "cell_type": "code",
   "execution_count": 74,
   "id": "e2ba0717-f797-4778-8cdf-6f2db02a5b82",
   "metadata": {},
   "outputs": [
    {
     "name": "stdin",
     "output_type": "stream",
     "text": [
      "Enter the quantity for t-shirt:  50\n",
      "Enter the quantity for mug:  25\n",
      "Enter the quantity for hat:  70\n",
      "Enter the quantity for book:  10\n",
      "Enter the quantity for keychain:  20\n",
      "Enter the name of the product that you want to order:  keychain\n",
      "Do you want to order another product) (yes/no):  yes\n",
      "Enter the name of the product that you want to order:  t-shirt\n",
      "Do you want to order another product) (yes/no):  yes\n",
      "Enter the name of the product that you want to order:  hat\n",
      "Do you want to order another product) (yes/no):  yes\n",
      "Enter the name of the product that you want to order:  fan\n",
      "Do you want to order another product) (yes/no):  no\n"
     ]
    },
    {
     "name": "stdout",
     "output_type": "stream",
     "text": [
      "'fan' is out of stock or not in the inventory!\n",
      "Total Products Ordered: 4\n",
      "Percentage of Unique Products Ordered: 80%\n",
      "Updated Inventory:\n",
      "t-shirt: 49\n",
      "mug: 25\n",
      "hat: 69\n",
      "book: 10\n",
      "keychain: 19\n"
     ]
    }
   ],
   "source": [
    "# 7\n",
    "products = [\"t-shirt\", \"mug\", \"hat\", \"book\", \"keychain\"]\n",
    "inventory = initialize_inventory(products)\n",
    "customer_orders = get_customer_orders ()\n",
    "new_inventory = update_inventory(customer_orders, inventory)\n",
    "order_statistics = calculate_order_statistics (customer_orders,products)\n",
    "print_order_statistics(order_statistics)\n",
    "print_updated_inventory(inventory)"
   ]
  },
  {
   "cell_type": "code",
   "execution_count": null,
   "id": "eac578eb-5ef9-429c-8464-efd14aadf674",
   "metadata": {},
   "outputs": [],
   "source": []
  }
 ],
 "metadata": {
  "kernelspec": {
   "display_name": "Python 3 (ipykernel)",
   "language": "python",
   "name": "python3"
  },
  "language_info": {
   "codemirror_mode": {
    "name": "ipython",
    "version": 3
   },
   "file_extension": ".py",
   "mimetype": "text/x-python",
   "name": "python",
   "nbconvert_exporter": "python",
   "pygments_lexer": "ipython3",
   "version": "3.12.4"
  }
 },
 "nbformat": 4,
 "nbformat_minor": 5
}
